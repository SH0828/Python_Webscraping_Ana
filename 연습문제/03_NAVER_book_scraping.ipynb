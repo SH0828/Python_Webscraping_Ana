{
 "cells": [
  {
   "cell_type": "markdown",
   "id": "75609cf3",
   "metadata": {},
   "source": [
    "### 3-1. 네이버 책 검색 API 호출하기"
   ]
  },
  {
   "cell_type": "markdown",
   "id": "7b046765",
   "metadata": {},
   "source": [
    "### 1. 질문 :  검색어로  찾은  책 목록을 json 파일로 저장하기\n"
   ]
  },
  {
   "cell_type": "code",
   "execution_count": null,
   "id": "6ddecb03",
   "metadata": {},
   "outputs": [],
   "source": [
    "import pandas as pd \n",
    "import json\n",
    "import os\n",
    "import requests\n",
    "from bs4 import BeautifulSoup \n",
    "from pprint import pprint \n",
    "\n",
    "book_list = [] \n",
    "\n",
    "def search_books(query):\n",
    "    \n",
    "    payload = {\n",
    "        'query': query,\n",
    "        'display': 50, \n",
    "        'sort': \"sim\"  \n",
    "    }\n",
    "\n",
    "    # API 인증을 위한 헤더 설정\n",
    "    headers = {\n",
    "        'X-Naver-Client-Id': 'ybRsczc_Ea0qk7uXCLfV',\n",
    "        'X-Naver-Client-Secret': 'rU7H6whbWi'\n",
    "    }\n",
    "\n",
    "    url = f\"https://openapi.naver.com/v1/search/book.json\"\n",
    "\n",
    "    try:\n",
    "        res = requests.get(url, params=payload, headers=headers)\n",
    "        res.raise_for_status() # HTTP 오류가 발생하면 예외를 발생\n",
    "\n",
    "        books = res.json().get('items', []) # 'items' 키가 없을 경우 빈 리스트 반환\n",
    "        \n",
    "        \n",
    "        # API 응답에서 받은 모든 책을 일단 저장할 리스트\n",
    "        filtered_books = [] \n",
    "        for book in books:\n",
    "            # 검색어가 책 제목에 포함되어 있는지 확인 (대소문자 구분 없이)\n",
    "            if query.lower() in book['title'].lower(): \n",
    "                filtered_books.append(book)\n",
    "\n",
    "        # 'data' 폴더가 없으면 생성\n",
    "        folder_path = \"data\"\n",
    "        file_path = os.path.join(folder_path, \"books.json\")\n",
    "        os.makedirs(folder_path, exist_ok=True)\n",
    "\n",
    "        # JSON 파일로 저장\n",
    "        \n",
    "        with open(file_path, 'w', encoding='utf-8') as file:\n",
    "            json.dump(filtered_books, file, ensure_ascii=False, indent=2)\n",
    "        print(f\"✅ 검색된 책 목록이 '{file_path}'에 성공적으로 저장되었습니다.\")\n",
    "\n",
    "    except requests.exceptions.RequestException as e:\n",
    "        # API 호출 또는 응답 처리 중 발생할 수 있는 네트워크/HTTP 오류 처리\n",
    "        print(f'❌ API 호출 중 오류 발생: {e}')\n",
    "    except json.JSONDecodeError:\n",
    "        print('❌ JSON 응답을 디코딩하는 데 실패했습니다. 응답 형식을 확인하세요.')\n",
    "    except Exception as e:\n",
    "        print(f'❌ 예상치 못한 오류 발생: {e}')\n",
    "\n",
    "\n",
    "search_books('파이썬')"
   ]
  },
  {
   "cell_type": "markdown",
   "id": "54c1a277",
   "metadata": {},
   "source": [
    "### 2. books.json 파일을 Pandas DataFrame로 저장하기\n"
   ]
  },
  {
   "cell_type": "code",
   "execution_count": null,
   "id": "3c33d925",
   "metadata": {},
   "outputs": [],
   "source": [
    "with open(\"data/books.json\", \"r\", encoding=\"utf-8\") as f: \n",
    "    data = json.load(f) # JSON 데이터를 파이썬 딕셔너리 또는 리스트로 로드\n",
    "\n",
    "df_books = pd.DataFrame(data) # 로드된 데이터를 Pandas DataFrame으로 변환\n",
    "\n"
   ]
  },
  {
   "cell_type": "markdown",
   "id": "19a028b4",
   "metadata": {},
   "source": [
    "### 3. 질문 :  검색어로  찾은  책 목록 출력하기"
   ]
  },
  {
   "cell_type": "code",
   "execution_count": null,
   "id": "d9fe5201",
   "metadata": {},
   "outputs": [],
   "source": [
    "# DataFrame의 첫 5행을 출력하여 데이터를 확인합니다.\n",
    "df_books.head()"
   ]
  },
  {
   "cell_type": "markdown",
   "id": "cf3b262f",
   "metadata": {},
   "source": []
  },
  {
   "cell_type": "code",
   "execution_count": null,
   "id": "8f7508e5",
   "metadata": {},
   "outputs": [],
   "source": []
  }
 ],
 "metadata": {
  "kernelspec": {
   "display_name": "base",
   "language": "python",
   "name": "python3"
  },
  "language_info": {
   "codemirror_mode": {
    "name": "ipython",
    "version": 3
   },
   "file_extension": ".py",
   "mimetype": "text/x-python",
   "name": "python",
   "nbconvert_exporter": "python",
   "pygments_lexer": "ipython3",
   "version": "3.12.7"
  }
 },
 "nbformat": 4,
 "nbformat_minor": 5
}
