{
 "cells": [
  {
   "cell_type": "code",
   "execution_count": 11,
   "id": "711a28a1",
   "metadata": {},
   "outputs": [],
   "source": [
    "# reqeusts, bs4 import\n",
    "import requests\n",
    "# BeautifulSoup  import\n",
    "import bs4\n",
    "# BeautifulSoup 클래스 import\n",
    "from bs4 import BeautifulSoup"
   ]
  },
  {
   "cell_type": "markdown",
   "id": "d688e09d",
   "metadata": {},
   "source": [
    "### 질문1 :  아래의 url에서 뉴스기사의 링크와 제목을 출력하세요."
   ]
  },
  {
   "cell_type": "code",
   "execution_count": 12,
   "id": "bacc066a",
   "metadata": {},
   "outputs": [
    {
     "name": "stdout",
     "output_type": "stream",
     "text": [
      "https://news.daum.net/economy\n",
      "<class 'requests.models.Response'>\n",
      "200\n",
      "80\n",
      "<class 'bs4.element.ResultSet'>\n",
      "https://v.daum.net/v/20250724213018055\n",
      "[제5기 경남일보 경제포럼]제11강 조에스더 L컴퍼니 대표\n",
      "https://v.daum.net/v/20250724204701982\n",
      "정부, ODA 축소 움직임… \"한국 국제적 책임과 위상 맞게 늘려야\" [한양경제]\n",
      "https://v.daum.net/v/20250724185401285\n",
      "관세인상 일주일 남기고 판 흔드는 미국…”트럼프 눈높이 맞추려면 2500억달러 내놔야”\n",
      "https://v.daum.net/v/20250724175947467\n",
      "[단독] LG·SK, 악연 털었다…3조 '배터리 동맹' 대반전\n",
      "https://v.daum.net/v/20250724175100048\n",
      "\"폭우, 관측기록 다 깨버려…기후위기에 따른 복합재난, 과할 정도로 대비해야\"\n",
      "https://v.daum.net/v/20250724174122646\n",
      "“고향은 아니지만, 마음은 제주로 향했다”.. 서울 한복판서 터진 기부의 반전\n",
      "https://v.daum.net/v/20250724174036619\n",
      "경남 재개발 8곳·재건축 28곳…주택 공급 위주 벗어나야\n",
      "https://v.daum.net/v/20250724173016193\n",
      "관세 불확실성·건설 부진 지속…올해 성장 낙관은 '아직'(종합)\n",
      "https://v.daum.net/v/20250724172244844\n",
      "[신간] <나는 오늘도 비트코인을 산다> 출간…\"하루라도 빨리, 오래 보유하라\"\n"
     ]
    }
   ],
   "source": [
    "import requests\n",
    "from bs4 import BeautifulSoup\n",
    "\n",
    "url = 'https://news.daum.net/economy'\n",
    "print(f'{url}')\n",
    "\n",
    "    # 요청 헤더 설정 : 브라우저 정보\n",
    "req_header = {\n",
    "    \"user-agent\": \"Mozilla/5.0 (Windows NT 10.0; Win64; x64) AppleWebKit/537.36 (KHTML, like Gecko) Chrome/136.0.0.0 Whale/4.32.315.22 Safari/537.36\"\n",
    "}\n",
    "    # requests 의 get() 함수 호출하기 \n",
    "res=requests.get(url,headers=req_header)\n",
    "res.encoding = 'utf-8'\n",
    "print(type(res))\n",
    "print(res.status_code)\n",
    "if res.ok:\n",
    "    html = res.text\n",
    "    # BeautifulSoup 객체 생성\n",
    "    soup = BeautifulSoup(html, \"html.parser\")\n",
    "    li_tags = soup.select(\"li a[href*='v.daum.net/v']\")\n",
    "    print(len(li_tags))\n",
    "    print(type(li_tags)) \n",
    "    # <a> 태그 리스트 순회하기\n",
    "    for li_tag in soup.select('ul.list_newsheadline2 li'):\n",
    "        a_tag = li_tag.find('a')\n",
    "        link = a_tag['href']\t\n",
    "        \n",
    "        strong_tag = li_tag.select_one('div.cont_thumb strong.tit_txt')\n",
    "        title = strong_tag.text\n",
    "        print(f'{link}') \n",
    "        print(f'{title}')\n",
    "\n",
    "else:\n",
    "    # 응답(response)이 Error 이면 status code 출력    \n",
    "    print(f'Error Code = {res.status_code}')"
   ]
  },
  {
   "cell_type": "markdown",
   "id": "a8df445e",
   "metadata": {},
   "source": [
    "### 질문2:  여러개의 section 중 하나를 선택해서 url에서 뉴스기사의 링크와 제목을 출력하는 코드를 함수로 작성하기"
   ]
  },
  {
   "cell_type": "code",
   "execution_count": 13,
   "id": "8beeabeb",
   "metadata": {},
   "outputs": [],
   "source": [
    "import requests\n",
    "from bs4 import BeautifulSoup\n",
    "\n",
    "\n",
    "section_dict = {'기후/환경':'climate','사회':'society','경제':'economy','정치':'politics','국제':'world','문화':'culture','생활':'life','IT/과학':'tech','인물':'people'}\n",
    "\n",
    "\n",
    "def print_news(section):  #print_new(103,'생활/문화') \n",
    "    sid = section_dict[section]\n",
    "    url = f'https://news.daum.net/{sid}'\n",
    "    print(f'======> {url} {section} 뉴스 <======')\n",
    "\n",
    "    def print_news(section_name):\n",
    "         pass\n",
    "\n",
    "\n",
    "    # 요청 헤더 설정 : 브라우저 정보\n",
    "    req_header = {\n",
    "        \"user-agent\": \"Mozilla/5.0 (Windows NT 10.0; Win64; x64) AppleWebKit/537.36 (KHTML, like Gecko) Chrome/136.0.0.0 Whale/4.32.315.22 Safari/537.36\"\n",
    "    }\n",
    "    # requests 의 get() 함수 호출하기 \n",
    "    res=requests.get(url,headers=req_header)\n",
    "    res.encoding = 'utf-8'\n",
    "    \n",
    "    if res.ok:\n",
    "        html = res.text\n",
    "        # BeautifulSoup 객체 생성\n",
    "        soup = BeautifulSoup(html, \"html.parser\")\n",
    "        li_tags = soup.select(\"li a[href*='v.daum.net/v']\")\n",
    "        \n",
    "        # <a> 태그 리스트 순회하기\n",
    "        for li_tag in soup.select('ul.list_newsheadline2 li'):\n",
    "            a_tag = li_tag.find('a')\n",
    "            link = a_tag['href']\t\n",
    "        \n",
    "            strong_tag = li_tag.select_one('div.cont_thumb strong.tit_txt')\n",
    "            title = strong_tag.text\n",
    "            print(f'{link}') \n",
    "            print(f'{title}')\n",
    "    else:\n",
    "        # 응답(response)이 Error 이면 status code 출력    \n",
    "        print(f'Error Code = {res.status_code}') \n",
    "        "
   ]
  },
  {
   "cell_type": "code",
   "execution_count": 14,
   "id": "eef946c4",
   "metadata": {},
   "outputs": [
    {
     "name": "stdout",
     "output_type": "stream",
     "text": [
      "======> https://news.daum.net/economy 경제 뉴스 <======\n",
      "https://v.daum.net/v/20250724213018055\n",
      "[제5기 경남일보 경제포럼]제11강 조에스더 L컴퍼니 대표\n",
      "https://v.daum.net/v/20250724204701982\n",
      "정부, ODA 축소 움직임… \"한국 국제적 책임과 위상 맞게 늘려야\" [한양경제]\n",
      "https://v.daum.net/v/20250724185401285\n",
      "관세인상 일주일 남기고 판 흔드는 미국…”트럼프 눈높이 맞추려면 2500억달러 내놔야”\n",
      "https://v.daum.net/v/20250724175947467\n",
      "[단독] LG·SK, 악연 털었다…3조 '배터리 동맹' 대반전\n",
      "https://v.daum.net/v/20250724175100048\n",
      "\"폭우, 관측기록 다 깨버려…기후위기에 따른 복합재난, 과할 정도로 대비해야\"\n",
      "https://v.daum.net/v/20250724174122646\n",
      "“고향은 아니지만, 마음은 제주로 향했다”.. 서울 한복판서 터진 기부의 반전\n",
      "https://v.daum.net/v/20250724174036619\n",
      "경남 재개발 8곳·재건축 28곳…주택 공급 위주 벗어나야\n",
      "https://v.daum.net/v/20250724173016193\n",
      "관세 불확실성·건설 부진 지속…올해 성장 낙관은 '아직'(종합)\n",
      "https://v.daum.net/v/20250724172244844\n",
      "[신간] <나는 오늘도 비트코인을 산다> 출간…\"하루라도 빨리, 오래 보유하라\"\n",
      "None\n",
      "\n",
      "======> https://news.daum.net/society 사회 뉴스 <======\n",
      "https://v.daum.net/v/20250725003127214\n",
      "유튜버 ‘구제역·김용호’ 명예훼손 이근, 2심서 형량 올랐다\n",
      "https://v.daum.net/v/20250725002204147\n",
      "어도어 “뉴진스 복귀 준비”... 뉴진스 “학폭 피해자에 ‘돌아가라’는 것”\n",
      "https://v.daum.net/v/20250725000915000\n",
      "[강원마켓+] “민생쿠폰 되나요?” 설레는 골목상권… 소비심리 불 지필까\n",
      "https://v.daum.net/v/20250725000907996\n",
      "[뉴스 플러스+] 루머에 짓밟힌 서핑메카 “방문객 90% 감소…폐업 위기”\n",
      "https://v.daum.net/v/20250725000752944\n",
      "구슬땀 아래 피어난 초록잎 헐벗은 산에 새 생명 일구다\n",
      "https://v.daum.net/v/20250725000703908\n",
      "[장보영의 정상에서 쓴 편지]  27 정선 백운산: 구름의 한 시절\n",
      "https://v.daum.net/v/20250725000605901\n",
      "“휠체어는 슬프지도 엄숙하지도 않아요… 그저 힘껏 굴릴뿐”\n",
      "https://v.daum.net/v/20250725000205795\n",
      "공사 멈춘 지 곧 1년…남산 곤돌라는 오르고 싶다\n",
      "https://v.daum.net/v/20250725000147747\n",
      "[단독] 박정훈 대령, 임기훈·박진희·유재은 수사 요청…특검에 위증 등 혐의\n",
      "None\n"
     ]
    }
   ],
   "source": [
    "print(print_news('경제'))\n",
    "print()\n",
    "print(print_news('사회'))    "
   ]
  }
 ],
 "metadata": {
  "kernelspec": {
   "display_name": "base",
   "language": "python",
   "name": "python3"
  },
  "language_info": {
   "codemirror_mode": {
    "name": "ipython",
    "version": 3
   },
   "file_extension": ".py",
   "mimetype": "text/x-python",
   "name": "python",
   "nbconvert_exporter": "python",
   "pygments_lexer": "ipython3",
   "version": "3.12.7"
  }
 },
 "nbformat": 4,
 "nbformat_minor": 5
}
