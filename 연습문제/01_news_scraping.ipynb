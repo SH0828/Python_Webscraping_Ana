{
 "cells": [
  {
   "cell_type": "code",
   "execution_count": 32,
   "id": "711a28a1",
   "metadata": {},
   "outputs": [],
   "source": [
    "# reqeusts, bs4 import\n",
    "import requests\n",
    "# BeautifulSoup  import\n",
    "import bs4\n",
    "# BeautifulSoup 클래스 import\n",
    "from bs4 import BeautifulSoup"
   ]
  },
  {
   "cell_type": "markdown",
   "id": "d688e09d",
   "metadata": {},
   "source": [
    "### 질문1 :  아래의 url에서 뉴스기사의 링크와 제목을 출력하세요."
   ]
  },
  {
   "cell_type": "code",
   "execution_count": 33,
   "id": "bacc066a",
   "metadata": {},
   "outputs": [
    {
     "name": "stdout",
     "output_type": "stream",
     "text": [
      "https://news.daum.net/economy\n",
      "<class 'requests.models.Response'>\n",
      "200\n",
      "80\n",
      "<class 'bs4.element.ResultSet'>\n",
      "https://v.daum.net/v/20250723001500432\n",
      "“소고기·쌀은 지키겠다”…미국과 관세 담판 앞둔 한국, 히든카드는 ‘에너지’\n",
      "https://v.daum.net/v/20250722210317765\n",
      "韓 반도체는 깨어날 줄 모르고 [AI 칩 전쟁…한국은 없다?]\n",
      "https://v.daum.net/v/20250722204242273\n",
      "소비쿠폰 쓰려다가 '화들짝'…\"여기서는 못써요\" 응답에 '당황'한 소비자\n",
      "https://v.daum.net/v/20250722202007801\n",
      "‘해수부 부산 시대’ 조선·해양플랜트까지 업무 넓혀야\n",
      "https://v.daum.net/v/20250722200357366\n",
      "[이슈대담] “2040년 석탄화력발전소 폐쇄…신재생 에너지 전환”\n",
      "https://v.daum.net/v/20250722183143976\n",
      "“자율주행, 이동약자 지원하는 ‘공공성’에 초점 맞춰야”\n",
      "https://v.daum.net/v/20250722181057244\n",
      "꾸준히 강세 흐름 보이는 메이저 알트코인들 : 코리안 크립토 위클리 [INFCL 리서치]\n",
      "https://v.daum.net/v/20250722175548581\n",
      "세계시장 제패한 K뷰티·푸드…'첨단' 아니라며 R&D지원은 쥐꼬리\n",
      "https://v.daum.net/v/20250722174746199\n",
      "예금자보호 1억 시대…내 돈 어디에 맡길까?\n"
     ]
    }
   ],
   "source": [
    "import requests\n",
    "from bs4 import BeautifulSoup\n",
    "\n",
    "url = 'https://news.daum.net/economy'\n",
    "print(f'{url}')\n",
    "\n",
    "    # 요청 헤더 설정 : 브라우저 정보\n",
    "req_header = {\n",
    "    \"user-agent\": \"Mozilla/5.0 (Windows NT 10.0; Win64; x64) AppleWebKit/537.36 (KHTML, like Gecko) Chrome/104.0.0.0 Safari/537.36\"\n",
    "}\n",
    "    # requests 의 get() 함수 호출하기 \n",
    "res=requests.get(url,headers=req_header)\n",
    "res.encoding = 'utf-8'\n",
    "print(type(res))\n",
    "print(res.status_code)\n",
    "if res.ok:\n",
    "    html = res.text\n",
    "    # BeautifulSoup 객체 생성\n",
    "    soup = BeautifulSoup(html, \"html.parser\")\n",
    "    li_tags = soup.select(\"li a[href*='v.daum.net/v']\")\n",
    "    print(len(a_tags))\n",
    "    print(type(a_tags)) \n",
    "    # <a> 태그 리스트 순회하기\n",
    "    for li_tag in soup.select('ul.list_newsheadline2 li'):\n",
    "        a_tag = li_tag.find('a')\n",
    "        link = a_tag['href']\t\n",
    "        \n",
    "        strong_tag = li_tag.select_one('div.cont_thumb strong.tit_txt')\n",
    "        title = strong_tag.text\n",
    "        print(f'{link}') \n",
    "        print(f'{title}')\n",
    "\n",
    "else:\n",
    "    # 응답(response)이 Error 이면 status code 출력    \n",
    "    print(f'Error Code = {res.status_code}')"
   ]
  },
  {
   "cell_type": "markdown",
   "id": "a8df445e",
   "metadata": {},
   "source": [
    "### 질문2:  여러개의 section 중 하나를 선택해서 url에서 뉴스기사의 링크와 제목을 출력하는 코드를 함수로 작성하기"
   ]
  },
  {
   "cell_type": "code",
   "execution_count": 34,
   "id": "8beeabeb",
   "metadata": {},
   "outputs": [],
   "source": [
    "import requests\n",
    "from bs4 import BeautifulSoup\n",
    "\n",
    "\n",
    "section_dict = {'기후/환경':'climate','사회':'society','경제':'economy','정치':'politics','국제':'world','문화':'culture','생활':'life','IT/과학':'tech','인물':'people'}\n",
    "\n",
    "\n",
    "def print_news(section):  #print_new(103,'생활/문화') \n",
    "    sid = section_dict[section]\n",
    "    url = f'https://news.daum.net/{sid}'\n",
    "    print(f'======> {url} {section} 뉴스 <======')\n",
    "\n",
    "    def print_news(section_name):\n",
    "         pass\n",
    "\n",
    "\n",
    "    # 요청 헤더 설정 : 브라우저 정보\n",
    "    req_header = {\n",
    "        \"user-agent\": \"Mozilla/5.0 (Windows NT 10.0; Win64; x64) AppleWebKit/537.36 (KHTML, like Gecko) Chrome/104.0.0.0 Safari/537.36\"\n",
    "    }\n",
    "    # requests 의 get() 함수 호출하기 \n",
    "    res=requests.get(url,headers=req_header)\n",
    "    res.encoding = 'utf-8'\n",
    "    \n",
    "    if res.ok:\n",
    "        html = res.text\n",
    "        # BeautifulSoup 객체 생성\n",
    "        soup = BeautifulSoup(html, \"html.parser\")\n",
    "        li_tags = soup.select(\"li a[href*='v.daum.net/v']\")\n",
    "        \n",
    "        # <a> 태그 리스트 순회하기\n",
    "        for li_tag in soup.select('ul.list_newsheadline2 li'):\n",
    "            a_tag = li_tag.find('a')\n",
    "            link = a_tag['href']\t\n",
    "        \n",
    "            strong_tag = li_tag.select_one('div.cont_thumb strong.tit_txt')\n",
    "            title = strong_tag.text\n",
    "            print(f'{link}') \n",
    "            print(f'{title}')\n",
    "    else:\n",
    "        # 응답(response)이 Error 이면 status code 출력    \n",
    "        print(f'Error Code = {res.status_code}') \n",
    "        "
   ]
  },
  {
   "cell_type": "code",
   "execution_count": 35,
   "id": "eef946c4",
   "metadata": {},
   "outputs": [
    {
     "name": "stdout",
     "output_type": "stream",
     "text": [
      "======> https://news.daum.net/economy 경제 뉴스 <======\n",
      "https://v.daum.net/v/20250723001500432\n",
      "“소고기·쌀은 지키겠다”…미국과 관세 담판 앞둔 한국, 히든카드는 ‘에너지’\n",
      "https://v.daum.net/v/20250722210317765\n",
      "韓 반도체는 깨어날 줄 모르고 [AI 칩 전쟁…한국은 없다?]\n",
      "https://v.daum.net/v/20250722204242273\n",
      "소비쿠폰 쓰려다가 '화들짝'…\"여기서는 못써요\" 응답에 '당황'한 소비자\n",
      "https://v.daum.net/v/20250722202007801\n",
      "‘해수부 부산 시대’ 조선·해양플랜트까지 업무 넓혀야\n",
      "https://v.daum.net/v/20250722200357366\n",
      "[이슈대담] “2040년 석탄화력발전소 폐쇄…신재생 에너지 전환”\n",
      "https://v.daum.net/v/20250722183143976\n",
      "“자율주행, 이동약자 지원하는 ‘공공성’에 초점 맞춰야”\n",
      "https://v.daum.net/v/20250722181057244\n",
      "꾸준히 강세 흐름 보이는 메이저 알트코인들 : 코리안 크립토 위클리 [INFCL 리서치]\n",
      "https://v.daum.net/v/20250722175548581\n",
      "세계시장 제패한 K뷰티·푸드…'첨단' 아니라며 R&D지원은 쥐꼬리\n",
      "https://v.daum.net/v/20250722174746199\n",
      "예금자보호 1억 시대…내 돈 어디에 맡길까?\n",
      "None\n",
      "\n",
      "======> https://news.daum.net/society 사회 뉴스 <======\n",
      "https://v.daum.net/v/20250723000659236\n",
      "숲에 첨단기술을 심다…임업선진국 지탱하는 연구의 힘\n",
      "https://v.daum.net/v/20250723000213127\n",
      "범죄예방부터 경전철 노선까지…지금은 '데이터 행정'시대\n",
      "https://v.daum.net/v/20250723000147107\n",
      "[포토 르포] \"떠날 수 없는 사람들, 무너져가는 건물 속에서 산다\"\n",
      "https://v.daum.net/v/20250722223055254\n",
      "먹튀 해놓고 SNS 인증샷을 올려?…네일샵 사장의 분노\n",
      "https://v.daum.net/v/20250722223004247\n",
      "대법 \"재판소원 도입시 신속 권리구제에 치명적 문제 발생\"\n",
      "https://v.daum.net/v/20250722221316119\n",
      "빛바랜 8회 빅이닝…KIA, 불펜 붕괴로 LG에 역전패\n",
      "https://v.daum.net/v/20250722220143943\n",
      "[단독] 통일교 ‘조직적 국힘 입당’ 시도 확인…“은밀히 원서 돌려”\n",
      "https://v.daum.net/v/20250722214226532\n",
      "[호우 피해 합천 가회면 가보니] 수마 휩쓸고 간 마을, 쓰레기밭으로 변했다\n",
      "https://v.daum.net/v/20250722213920464\n",
      "2043년 대학 신입생 절반도 못 채운다…입학자원 급감 '경고등'\n",
      "None\n"
     ]
    }
   ],
   "source": [
    "print(print_news('경제'))\n",
    "print()\n",
    "print(print_news('사회'))    "
   ]
  }
 ],
 "metadata": {
  "kernelspec": {
   "display_name": "base",
   "language": "python",
   "name": "python3"
  },
  "language_info": {
   "codemirror_mode": {
    "name": "ipython",
    "version": 3
   },
   "file_extension": ".py",
   "mimetype": "text/x-python",
   "name": "python",
   "nbconvert_exporter": "python",
   "pygments_lexer": "ipython3",
   "version": "3.12.7"
  }
 },
 "nbformat": 4,
 "nbformat_minor": 5
}
