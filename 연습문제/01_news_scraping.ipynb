{
 "cells": [
  {
   "cell_type": "code",
   "execution_count": 1,
   "id": "711a28a1",
   "metadata": {},
   "outputs": [],
   "source": [
    "# reqeusts, bs4 import\n",
    "import requests\n",
    "# BeautifulSoup  import\n",
    "import bs4\n",
    "# BeautifulSoup 클래스 import\n",
    "from bs4 import BeautifulSoup"
   ]
  },
  {
   "cell_type": "markdown",
   "id": "d688e09d",
   "metadata": {},
   "source": [
    "### 질문1 :  아래의 url에서 뉴스기사의 링크와 제목을 출력하세요."
   ]
  },
  {
   "cell_type": "code",
   "execution_count": null,
   "id": "bacc066a",
   "metadata": {},
   "outputs": [
    {
     "name": "stdout",
     "output_type": "stream",
     "text": [
      "https://news.daum.net/economy\n",
      "<class 'requests.models.Response'>\n",
      "200\n",
      "80\n",
      "<class 'bs4.element.ResultSet'>\n",
      "https://v.daum.net/v/20250723150154993\n",
      "3선 딱지 뗀 '보험맨' 하태경 \"암호화폐 융합보험 시대 곧 온다\" [월간중앙]\n",
      "https://v.daum.net/v/20250723142101850\n",
      "네일왕서 아파트왕으로...박화영 인코코 회장 “맨해튼서 예술같은 부동산개발”\n",
      "https://v.daum.net/v/20250723140906360\n",
      "[대전 둔산지구의 미래를 그리다] 디지털·스마트 신도시 '풍골'에서 미래도시의 청사진을 보다\n",
      "https://v.daum.net/v/20250723135926840\n",
      "\"미일 협상, 중요한 참고사례…FTA 고려시 日보단 더 얻어야\"\n",
      "https://v.daum.net/v/20250723130459121\n",
      "[충남창업人-톡](6)카데아, '3D 어라운드 뷰' 개발…美·유럽 시장 정조준\n",
      "https://v.daum.net/v/20250723125814945\n",
      "[뉴스나우] 이틀 앞으로 다가온 한미 협상 시사점은?\n",
      "https://v.daum.net/v/20250723122253422\n",
      "“대졸자, 일자리 밖에 서다”.. 비경제활동 300만 시대의 경고\n",
      "https://v.daum.net/v/20250723122213414\n",
      "무료로 배송 받았던 카톡 선물 '유료' 옵션 생긴 이유는?\n",
      "https://v.daum.net/v/20250723120247911\n",
      "혼인·출생아 수 청신호…예비부부 울리는 ‘스드메’\n"
     ]
    }
   ],
   "source": [
    "import requests\n",
    "from bs4 import BeautifulSoup\n",
    "\n",
    "url = 'https://news.daum.net/economy'\n",
    "print(f'{url}')\n",
    "\n",
    "    # 요청 헤더 설정 : 브라우저 정보\n",
    "req_header = {\n",
    "    \"user-agent\": \"Mozilla/5.0 (Windows NT 10.0; Win64; x64) AppleWebKit/537.36 (KHTML, like Gecko) Chrome/136.0.0.0 Whale/4.32.315.22 Safari/537.36\"\n",
    "}\n",
    "    # requests 의 get() 함수 호출하기 \n",
    "res=requests.get(url,headers=req_header)\n",
    "res.encoding = 'utf-8'\n",
    "print(type(res))\n",
    "print(res.status_code)\n",
    "if res.ok:\n",
    "    html = res.text\n",
    "    # BeautifulSoup 객체 생성\n",
    "    soup = BeautifulSoup(html, \"html.parser\")\n",
    "    li_tags = soup.select(\"li a[href*='v.daum.net/v']\")\n",
    "    print(len(li_tags))\n",
    "    print(type(li_tags)) \n",
    "    # <a> 태그 리스트 순회하기\n",
    "    for li_tag in soup.select('ul.list_newsheadline2 li'):\n",
    "        a_tag = li_tag.find('a')\n",
    "        link = a_tag['href']\t\n",
    "        \n",
    "        strong_tag = li_tag.select_one('div.cont_thumb strong.tit_txt')\n",
    "        title = strong_tag.text\n",
    "        print(f'{link}') \n",
    "        print(f'{title}')\n",
    "\n",
    "else:\n",
    "    # 응답(response)이 Error 이면 status code 출력    \n",
    "    print(f'Error Code = {res.status_code}')"
   ]
  },
  {
   "cell_type": "markdown",
   "id": "a8df445e",
   "metadata": {},
   "source": [
    "### 질문2:  여러개의 section 중 하나를 선택해서 url에서 뉴스기사의 링크와 제목을 출력하는 코드를 함수로 작성하기"
   ]
  },
  {
   "cell_type": "code",
   "execution_count": null,
   "id": "8beeabeb",
   "metadata": {},
   "outputs": [],
   "source": [
    "import requests\n",
    "from bs4 import BeautifulSoup\n",
    "\n",
    "\n",
    "section_dict = {'기후/환경':'climate','사회':'society','경제':'economy','정치':'politics','국제':'world','문화':'culture','생활':'life','IT/과학':'tech','인물':'people'}\n",
    "\n",
    "\n",
    "def print_news(section):  #print_new(103,'생활/문화') \n",
    "    sid = section_dict[section]\n",
    "    url = f'https://news.daum.net/{sid}'\n",
    "    print(f'======> {url} {section} 뉴스 <======')\n",
    "\n",
    "    def print_news(section_name):\n",
    "         pass\n",
    "\n",
    "\n",
    "    # 요청 헤더 설정 : 브라우저 정보\n",
    "    req_header = {\n",
    "        \"user-agent\": \"Mozilla/5.0 (Windows NT 10.0; Win64; x64) AppleWebKit/537.36 (KHTML, like Gecko) Chrome/136.0.0.0 Whale/4.32.315.22 Safari/537.36\"\n",
    "    }\n",
    "    # requests 의 get() 함수 호출하기 \n",
    "    res=requests.get(url,headers=req_header)\n",
    "    res.encoding = 'utf-8'\n",
    "    \n",
    "    if res.ok:\n",
    "        html = res.text\n",
    "        # BeautifulSoup 객체 생성\n",
    "        soup = BeautifulSoup(html, \"html.parser\")\n",
    "        li_tags = soup.select(\"li a[href*='v.daum.net/v']\")\n",
    "        \n",
    "        # <a> 태그 리스트 순회하기\n",
    "        for li_tag in soup.select('ul.list_newsheadline2 li'):\n",
    "            a_tag = li_tag.find('a')\n",
    "            link = a_tag['href']\t\n",
    "        \n",
    "            strong_tag = li_tag.select_one('div.cont_thumb strong.tit_txt')\n",
    "            title = strong_tag.text\n",
    "            print(f'{link}') \n",
    "            print(f'{title}')\n",
    "    else:\n",
    "        # 응답(response)이 Error 이면 status code 출력    \n",
    "        print(f'Error Code = {res.status_code}') \n",
    "        "
   ]
  },
  {
   "cell_type": "code",
   "execution_count": 35,
   "id": "eef946c4",
   "metadata": {},
   "outputs": [
    {
     "name": "stdout",
     "output_type": "stream",
     "text": [
      "======> https://news.daum.net/economy 경제 뉴스 <======\n",
      "https://v.daum.net/v/20250723001500432\n",
      "“소고기·쌀은 지키겠다”…미국과 관세 담판 앞둔 한국, 히든카드는 ‘에너지’\n",
      "https://v.daum.net/v/20250722210317765\n",
      "韓 반도체는 깨어날 줄 모르고 [AI 칩 전쟁…한국은 없다?]\n",
      "https://v.daum.net/v/20250722204242273\n",
      "소비쿠폰 쓰려다가 '화들짝'…\"여기서는 못써요\" 응답에 '당황'한 소비자\n",
      "https://v.daum.net/v/20250722202007801\n",
      "‘해수부 부산 시대’ 조선·해양플랜트까지 업무 넓혀야\n",
      "https://v.daum.net/v/20250722200357366\n",
      "[이슈대담] “2040년 석탄화력발전소 폐쇄…신재생 에너지 전환”\n",
      "https://v.daum.net/v/20250722183143976\n",
      "“자율주행, 이동약자 지원하는 ‘공공성’에 초점 맞춰야”\n",
      "https://v.daum.net/v/20250722181057244\n",
      "꾸준히 강세 흐름 보이는 메이저 알트코인들 : 코리안 크립토 위클리 [INFCL 리서치]\n",
      "https://v.daum.net/v/20250722175548581\n",
      "세계시장 제패한 K뷰티·푸드…'첨단' 아니라며 R&D지원은 쥐꼬리\n",
      "https://v.daum.net/v/20250722174746199\n",
      "예금자보호 1억 시대…내 돈 어디에 맡길까?\n",
      "None\n",
      "\n",
      "======> https://news.daum.net/society 사회 뉴스 <======\n",
      "https://v.daum.net/v/20250723000659236\n",
      "숲에 첨단기술을 심다…임업선진국 지탱하는 연구의 힘\n",
      "https://v.daum.net/v/20250723000213127\n",
      "범죄예방부터 경전철 노선까지…지금은 '데이터 행정'시대\n",
      "https://v.daum.net/v/20250723000147107\n",
      "[포토 르포] \"떠날 수 없는 사람들, 무너져가는 건물 속에서 산다\"\n",
      "https://v.daum.net/v/20250722223055254\n",
      "먹튀 해놓고 SNS 인증샷을 올려?…네일샵 사장의 분노\n",
      "https://v.daum.net/v/20250722223004247\n",
      "대법 \"재판소원 도입시 신속 권리구제에 치명적 문제 발생\"\n",
      "https://v.daum.net/v/20250722221316119\n",
      "빛바랜 8회 빅이닝…KIA, 불펜 붕괴로 LG에 역전패\n",
      "https://v.daum.net/v/20250722220143943\n",
      "[단독] 통일교 ‘조직적 국힘 입당’ 시도 확인…“은밀히 원서 돌려”\n",
      "https://v.daum.net/v/20250722214226532\n",
      "[호우 피해 합천 가회면 가보니] 수마 휩쓸고 간 마을, 쓰레기밭으로 변했다\n",
      "https://v.daum.net/v/20250722213920464\n",
      "2043년 대학 신입생 절반도 못 채운다…입학자원 급감 '경고등'\n",
      "None\n"
     ]
    }
   ],
   "source": [
    "print(print_news('경제'))\n",
    "print()\n",
    "print(print_news('사회'))    "
   ]
  },
  {
   "cell_type": "markdown",
   "id": "68324f06",
   "metadata": {},
   "source": [
    "### 2-1. Nate 뉴스기사 제목 스크래핑하기"
   ]
  },
  {
   "cell_type": "code",
   "execution_count": 6,
   "id": "a66b4d3c",
   "metadata": {},
   "outputs": [],
   "source": [
    "import requests\n",
    "from urllib.parse import urljoin\n",
    "from bs4 import BeautifulSoup\n",
    "from IPython.display import Image, display\n",
    "\n",
    "# 뉴스 섹션과 해당 mid 값을 매핑하는 딕셔너리\n",
    "section_dict = {\n",
    "    '최신뉴스': 'n0100',\n",
    "    '정치': 'n0200',\n",
    "    '경제': 'n0300',\n",
    "    '사회': 'n0400',\n",
    "    '세계': 'n0500',\n",
    "    'IT/과학': 'n0600'\n",
    "}\n",
    "\n",
    "def get_nate_news_data(section_name):\n",
    "    \n",
    "    # 섹션 이름의 유효성 검사\n",
    "    section_code = section_dict.get(section_name)\n",
    "    if not section_code:\n",
    "        print(f\"'{section_name}' 섹션은 존재하지 않거나 지원되지 않습니다. \"\n",
    "              \"다음 중 하나를 선택하세요: \" + \", \".join(section_dict.keys()))\n",
    "        return\n",
    "\n",
    "    #  요청할 뉴스 섹션의 URL 생성\n",
    "    base_url = \"https://news.nate.com\"\n",
    "    news_section_url = f'{base_url}/recent?mid={section_code}'\n",
    "\n",
    "    print(f'\\n--- {section_name} 뉴스 스크래핑 시작 ({news_section_url}) ---')\n",
    "\n",
    "    request_headers = {\n",
    "        'Referer': news_section_url, # 요청 출처를 명시하여 정상적인 접근처럼 보이게 함\n",
    "        \"user-agent\": \"Mozilla/5.0 (Windows NT 10.0; Win64; x64) AppleWebKit/537.36 (KHTML, like Gecko) Chrome/136.0.0.0 Whale/4.32.315.22 Safari/537.36\"\n",
    "    }\n",
    "\n",
    "    try:\n",
    "        # 웹 페이지 요청 및 인코딩 설정\n",
    "        response = requests.get(news_section_url, headers=request_headers)\n",
    "        response.encoding = 'EUC-KR' # 네이트 뉴스 인코딩에 맞춰 설정\n",
    "        response.raise_for_status() # HTTP 오류(4xx, 5xx) 발생 시 예외 발생\n",
    "\n",
    "        soup = BeautifulSoup(response.text, 'html.parser')\n",
    "\n",
    "        # 뉴스 항목 선택 \n",
    "        news_entries = soup.select('div.postSubjectContent div.mlt01')\n",
    "\n",
    "        if not news_entries:\n",
    "            print(f\"'{section_name}' 섹션에서 뉴스 항목을 찾을 수 없습니다. 웹사이트 구조 변경 여부를 확인하세요.\")\n",
    "            return\n",
    "\n",
    "        #  각 뉴스 항목에서 정보 추출 및 출력\n",
    "        for index, entry in enumerate(news_entries):\n",
    "            print(f\"\\n--- 기사 #{index + 1} ---\")\n",
    "\n",
    "            # 기사 제목 추출\n",
    "            title_tag = entry.select_one('h2.tit')\n",
    "            article_title = title_tag.text.strip() if title_tag else \"제목 없음\"\n",
    "            print(f\"기사 제목: {article_title}\")\n",
    "\n",
    "            # 기사 링크 추출\n",
    "            link_tag = entry.find('a') \n",
    "            # urljoin을 사용하여 상대 경로를 절대 경로로 변환 \n",
    "            article_link = urljoin(base_url, link_tag['href']) if link_tag and 'href' in link_tag.attrs else \"링크 없음\"\n",
    "            print(f\"기사 링크: {article_link}\")\n",
    "\n",
    "            # 이미지 정보 추출 및 출력\n",
    "            image_tag = link_tag.select_one('img[src]') if link_tag else None # a 태그 안의 img 태그 찾기\n",
    "\n",
    "            # 이미지 태그가 존재하고 'src' 속성이 있는지 확인\n",
    "            if image_tag and 'src' in image_tag.attrs:\n",
    "                image_src = image_tag['src']\n",
    "                \n",
    "                # 이미지 src가 //로 시작하는 프로토콜 상대 경로일 경우 'https:' 추가\n",
    "                if image_src.startswith('//'):\n",
    "                    image_src = 'https:' + image_src\n",
    "                \n",
    "                # urljoin을 사용하여 이미지의 전체 URL 생성 (기사 URL 대신 기본 도메인 사용 권장)\n",
    "                full_image_url = urljoin(base_url, image_src)\n",
    "                print(f\"이미지 URL: {full_image_url}\")\n",
    "                \n",
    "                # IPython.display를 사용하여 이미지 표시\n",
    "                try:\n",
    "                    display(Image(url=full_image_url, width=150)) # 이미지 너비 지정\n",
    "                except Exception as e:\n",
    "                    print(f\"이미지를 표시하는 데 실패했습니다 ({full_image_url}): {e}\")\n",
    "            else:\n",
    "                print(\"이미지: 없음\")\n",
    "\n",
    "    except requests.exceptions.RequestException as e:\n",
    "        print(f\"네트워크 요청 중 오류 발생: {e}\")\n",
    "    except Exception as e:\n",
    "        print(f\"데이터 처리 중 예상치 못한 오류 발생: {e}\")\n",
    "\n",
    "    print(f'--- {section_name} 뉴스 스크래핑 완료 ---')\n",
    "\n"
   ]
  },
  {
   "cell_type": "code",
   "execution_count": 9,
   "id": "8f4ff02a",
   "metadata": {},
   "outputs": [
    {
     "name": "stdout",
     "output_type": "stream",
     "text": [
      "\n",
      "--- 경제 뉴스 스크래핑 시작 (https://news.nate.com/recent?mid=n0300) ---\n",
      "\n",
      "--- 기사 #1 ---\n",
      "기사 제목: 프로야구, 역대 최소경기 800만 관중 돌파…최다 매진 타이기록\n",
      "기사 링크: https://news.nate.com/view/20250725n00571?mid=n0300\n",
      "이미지 URL: https://thumbnews.nateimg.co.kr/news90///news.nateimg.co.kr/orgImg/jt/2025/07/25/20250725011513563001.png\n"
     ]
    },
    {
     "data": {
      "text/html": [
       "<img src=\"https://thumbnews.nateimg.co.kr/news90///news.nateimg.co.kr/orgImg/jt/2025/07/25/20250725011513563001.png\" width=\"150\"/>"
      ],
      "text/plain": [
       "<IPython.core.display.Image object>"
      ]
     },
     "metadata": {},
     "output_type": "display_data"
    },
    {
     "name": "stdout",
     "output_type": "stream",
     "text": [
      "\n",
      "--- 기사 #2 ---\n",
      "기사 제목: 공항서 되돌아온 부총리\n",
      "기사 링크: https://news.nate.com/view/20250725n00409?mid=n0300\n",
      "이미지 URL: https://thumbnews.nateimg.co.kr/news90///news.nateimg.co.kr/orgImg/jo/2025/07/25/c2da8257-90a8-4a4c-a6f4-917f40bdc86b.jpg\n"
     ]
    },
    {
     "data": {
      "text/html": [
       "<img src=\"https://thumbnews.nateimg.co.kr/news90///news.nateimg.co.kr/orgImg/jo/2025/07/25/c2da8257-90a8-4a4c-a6f4-917f40bdc86b.jpg\" width=\"150\"/>"
      ],
      "text/plain": [
       "<IPython.core.display.Image object>"
      ]
     },
     "metadata": {},
     "output_type": "display_data"
    },
    {
     "name": "stdout",
     "output_type": "stream",
     "text": [
      "\n",
      "--- 기사 #3 ---\n",
      "기사 제목: \"내년까지 힘들 수도\" 머스크 CEO 시인에 테슬라 주가 장중 8%대 폭락\n",
      "기사 링크: https://news.nate.com/view/20250725n00545?mid=n0300\n",
      "이미지 URL: https://thumbnews.nateimg.co.kr/news90///news.nateimg.co.kr/orgImg/sg/2025/07/25/20250725500451.jpg\n"
     ]
    },
    {
     "data": {
      "text/html": [
       "<img src=\"https://thumbnews.nateimg.co.kr/news90///news.nateimg.co.kr/orgImg/sg/2025/07/25/20250725500451.jpg\" width=\"150\"/>"
      ],
      "text/plain": [
       "<IPython.core.display.Image object>"
      ]
     },
     "metadata": {},
     "output_type": "display_data"
    },
    {
     "name": "stdout",
     "output_type": "stream",
     "text": [
      "\n",
      "--- 기사 #4 ---\n",
      "기사 제목: EU \"美와 관세협상 체결 '가시권'\"\n",
      "기사 링크: https://news.nate.com/view/20250725n00539?mid=n0300\n",
      "이미지 URL: https://thumbnews.nateimg.co.kr/news90///news.nateimg.co.kr/orgImg/cz/2025/07/25/cz_1753373104807_806323_0.jpg\n"
     ]
    },
    {
     "data": {
      "text/html": [
       "<img src=\"https://thumbnews.nateimg.co.kr/news90///news.nateimg.co.kr/orgImg/cz/2025/07/25/cz_1753373104807_806323_0.jpg\" width=\"150\"/>"
      ],
      "text/plain": [
       "<IPython.core.display.Image object>"
      ]
     },
     "metadata": {},
     "output_type": "display_data"
    },
    {
     "name": "stdout",
     "output_type": "stream",
     "text": [
      "\n",
      "--- 기사 #5 ---\n",
      "기사 제목: 구윤철 출국전 공항서 발길 돌려…트럼프 '韓 카드' 불만 가능성\n",
      "기사 링크: https://news.nate.com/view/20250725n00001?mid=n0300\n",
      "이미지 URL: https://thumbnews.nateimg.co.kr/news90///news.nateimg.co.kr/orgImg/no/2025/07/25/SSC_20250724175415_V.jpg\n"
     ]
    },
    {
     "data": {
      "text/html": [
       "<img src=\"https://thumbnews.nateimg.co.kr/news90///news.nateimg.co.kr/orgImg/no/2025/07/25/SSC_20250724175415_V.jpg\" width=\"150\"/>"
      ],
      "text/plain": [
       "<IPython.core.display.Image object>"
      ]
     },
     "metadata": {},
     "output_type": "display_data"
    },
    {
     "name": "stdout",
     "output_type": "stream",
     "text": [
      "\n",
      "--- 기사 #6 ---\n",
      "기사 제목: \"日이어 EU도 車관세 절반 깎아\" 비상 걸린 한국\n",
      "기사 링크: https://news.nate.com/view/20250725n00477?mid=n0300\n",
      "이미지 URL: https://thumbnews.nateimg.co.kr/news90///news.nateimg.co.kr/orgImg/ch/2025/07/25/ch_1753372608318_976464_0.jpg\n"
     ]
    },
    {
     "data": {
      "text/html": [
       "<img src=\"https://thumbnews.nateimg.co.kr/news90///news.nateimg.co.kr/orgImg/ch/2025/07/25/ch_1753372608318_976464_0.jpg\" width=\"150\"/>"
      ],
      "text/plain": [
       "<IPython.core.display.Image object>"
      ]
     },
     "metadata": {},
     "output_type": "display_data"
    },
    {
     "name": "stdout",
     "output_type": "stream",
     "text": [
      "\n",
      "--- 기사 #7 ---\n",
      "기사 제목: 대출 규제 이후 서울 집값 상승폭 4주째 줄어들어\n",
      "기사 링크: https://news.nate.com/view/20250725n00476?mid=n0300\n",
      "이미지 URL: https://thumbnews.nateimg.co.kr/news90///news.nateimg.co.kr/orgImg/ch/2025/07/25/ch_1753372602218_200528_0.jpg\n"
     ]
    },
    {
     "data": {
      "text/html": [
       "<img src=\"https://thumbnews.nateimg.co.kr/news90///news.nateimg.co.kr/orgImg/ch/2025/07/25/ch_1753372602218_200528_0.jpg\" width=\"150\"/>"
      ],
      "text/plain": [
       "<IPython.core.display.Image object>"
      ]
     },
     "metadata": {},
     "output_type": "display_data"
    },
    {
     "name": "stdout",
     "output_type": "stream",
     "text": [
      "\n",
      "--- 기사 #8 ---\n",
      "기사 제목: 월세가 대세…임대차 시장 60% 첫 돌파\n",
      "기사 링크: https://news.nate.com/view/20250725n00473?mid=n0300\n",
      "이미지 URL: https://thumbnews.nateimg.co.kr/news90///news.nateimg.co.kr/orgImg/ch/2025/07/25/ch_1753372580602_994693_0.jpg\n"
     ]
    },
    {
     "data": {
      "text/html": [
       "<img src=\"https://thumbnews.nateimg.co.kr/news90///news.nateimg.co.kr/orgImg/ch/2025/07/25/ch_1753372580602_994693_0.jpg\" width=\"150\"/>"
      ],
      "text/plain": [
       "<IPython.core.display.Image object>"
      ]
     },
     "metadata": {},
     "output_type": "display_data"
    },
    {
     "name": "stdout",
     "output_type": "stream",
     "text": [
      "\n",
      "--- 기사 #9 ---\n",
      "기사 제목: 한국, 쌀·소고기 지키고 옥수수·감자 수입 확대 카드\n",
      "기사 링크: https://news.nate.com/view/20250725n00470?mid=n0300\n",
      "이미지 URL: https://thumbnews.nateimg.co.kr/news90///news.nateimg.co.kr/orgImg/ch/2025/07/25/ch_1753372572689_467918_0.jpg\n"
     ]
    },
    {
     "data": {
      "text/html": [
       "<img src=\"https://thumbnews.nateimg.co.kr/news90///news.nateimg.co.kr/orgImg/ch/2025/07/25/ch_1753372572689_467918_0.jpg\" width=\"150\"/>"
      ],
      "text/plain": [
       "<IPython.core.display.Image object>"
      ]
     },
     "metadata": {},
     "output_type": "display_data"
    },
    {
     "name": "stdout",
     "output_type": "stream",
     "text": [
      "\n",
      "--- 기사 #10 ---\n",
      "기사 제목: 美아메리칸항공, 항공수요 반등 기대 '찬물'…\"국내선 수요부진\"\n",
      "기사 링크: https://news.nate.com/view/20250725n00461?mid=n0300\n",
      "이미지 URL: https://thumbnews.nateimg.co.kr/news90///news.nateimg.co.kr/orgImg/yt/2025/07/25/AKR20250725001700072_01_i.jpg\n"
     ]
    },
    {
     "data": {
      "text/html": [
       "<img src=\"https://thumbnews.nateimg.co.kr/news90///news.nateimg.co.kr/orgImg/yt/2025/07/25/AKR20250725001700072_01_i.jpg\" width=\"150\"/>"
      ],
      "text/plain": [
       "<IPython.core.display.Image object>"
      ]
     },
     "metadata": {},
     "output_type": "display_data"
    },
    {
     "name": "stdout",
     "output_type": "stream",
     "text": [
      "\n",
      "--- 기사 #11 ---\n",
      "기사 제목: 기업들 '소버린 AI' 속도…SKT·카카오 독자모델 각각 공개\n",
      "기사 링크: https://news.nate.com/view/20250725n00459?mid=n0300\n",
      "이미지 URL: https://thumbnews.nateimg.co.kr/news90///news.nateimg.co.kr/orgImg/kx/2025/07/25/2025072422550321131_1753365303_1753341575.jpg\n"
     ]
    },
    {
     "data": {
      "text/html": [
       "<img src=\"https://thumbnews.nateimg.co.kr/news90///news.nateimg.co.kr/orgImg/kx/2025/07/25/2025072422550321131_1753365303_1753341575.jpg\" width=\"150\"/>"
      ],
      "text/plain": [
       "<IPython.core.display.Image object>"
      ]
     },
     "metadata": {},
     "output_type": "display_data"
    },
    {
     "name": "stdout",
     "output_type": "stream",
     "text": [
      "\n",
      "--- 기사 #12 ---\n",
      "기사 제목: \"수해 복구 써달라\" 기업들 성금·물품 잇따라\n",
      "기사 링크: https://news.nate.com/view/20250725n00433?mid=n0300\n",
      "이미지: 없음\n",
      "\n",
      "--- 기사 #13 ---\n",
      "기사 제목: 현대차 2분기 영업이익 '뚝'…1년 전보다 6775억원 줄었다\n",
      "기사 링크: https://news.nate.com/view/20250725n00415?mid=n0300\n",
      "이미지 URL: https://thumbnews.nateimg.co.kr/news90///news.nateimg.co.kr/orgImg/kx/2025/07/25/2025072422510621114_1753365066_1753345613.jpg\n"
     ]
    },
    {
     "data": {
      "text/html": [
       "<img src=\"https://thumbnews.nateimg.co.kr/news90///news.nateimg.co.kr/orgImg/kx/2025/07/25/2025072422510621114_1753365066_1753345613.jpg\" width=\"150\"/>"
      ],
      "text/plain": [
       "<IPython.core.display.Image object>"
      ]
     },
     "metadata": {},
     "output_type": "display_data"
    },
    {
     "name": "stdout",
     "output_type": "stream",
     "text": [
      "\n",
      "--- 기사 #14 ---\n",
      "기사 제목: 'HBM 파워' SK하이닉스, 2분기 영업이익 9.2조…사상 최대\n",
      "기사 링크: https://news.nate.com/view/20250725n00411?mid=n0300\n",
      "이미지 URL: https://thumbnews.nateimg.co.kr/news90///news.nateimg.co.kr/orgImg/kx/2025/07/25/2025072422500421107_1753365004_1753344231.jpg\n"
     ]
    },
    {
     "data": {
      "text/html": [
       "<img src=\"https://thumbnews.nateimg.co.kr/news90///news.nateimg.co.kr/orgImg/kx/2025/07/25/2025072422500421107_1753365004_1753344231.jpg\" width=\"150\"/>"
      ],
      "text/plain": [
       "<IPython.core.display.Image object>"
      ]
     },
     "metadata": {},
     "output_type": "display_data"
    },
    {
     "name": "stdout",
     "output_type": "stream",
     "text": [
      "\n",
      "--- 기사 #15 ---\n",
      "기사 제목: [종합] 김정관 산업부 장관, 美 에너지장관과 회담…내일 상무장관 회담 예정\n",
      "기사 링크: https://news.nate.com/view/20250725n00267?mid=n0300\n",
      "이미지 URL: https://thumbnews.nateimg.co.kr/news90///news.nateimg.co.kr/orgImg/ni/2025/07/25/250723104252413_w.jpg\n"
     ]
    },
    {
     "data": {
      "text/html": [
       "<img src=\"https://thumbnews.nateimg.co.kr/news90///news.nateimg.co.kr/orgImg/ni/2025/07/25/250723104252413_w.jpg\" width=\"150\"/>"
      ],
      "text/plain": [
       "<IPython.core.display.Image object>"
      ]
     },
     "metadata": {},
     "output_type": "display_data"
    },
    {
     "name": "stdout",
     "output_type": "stream",
     "text": [
      "\n",
      "--- 기사 #16 ---\n",
      "기사 제목: '속도전' 배경훈 장관 \"AI 생태계 구축, 2~3년 내 승부 봐야\"\n",
      "기사 링크: https://news.nate.com/view/20250725n00401?mid=n0300\n",
      "이미지 URL: https://thumbnews.nateimg.co.kr/news90///news.nateimg.co.kr/orgImg/kx/2025/07/25/2025072420080320635_1753355283_1753339396.jpg\n"
     ]
    },
    {
     "data": {
      "text/html": [
       "<img src=\"https://thumbnews.nateimg.co.kr/news90///news.nateimg.co.kr/orgImg/kx/2025/07/25/2025072420080320635_1753355283_1753339396.jpg\" width=\"150\"/>"
      ],
      "text/plain": [
       "<IPython.core.display.Image object>"
      ]
     },
     "metadata": {},
     "output_type": "display_data"
    },
    {
     "name": "stdout",
     "output_type": "stream",
     "text": [
      "\n",
      "--- 기사 #17 ---\n",
      "기사 제목: LS일렉트릭, '국가전력망 핵심' HVDC 국산화 속도\n",
      "기사 링크: https://news.nate.com/view/20250725n00395?mid=n0300\n",
      "이미지 URL: https://thumbnews.nateimg.co.kr/news90///news.nateimg.co.kr/orgImg/kx/2025/07/25/2025072420070320630_1753355223_1753342129.jpg\n"
     ]
    },
    {
     "data": {
      "text/html": [
       "<img src=\"https://thumbnews.nateimg.co.kr/news90///news.nateimg.co.kr/orgImg/kx/2025/07/25/2025072420070320630_1753355223_1753342129.jpg\" width=\"150\"/>"
      ],
      "text/plain": [
       "<IPython.core.display.Image object>"
      ]
     },
     "metadata": {},
     "output_type": "display_data"
    },
    {
     "name": "stdout",
     "output_type": "stream",
     "text": [
      "\n",
      "--- 기사 #18 ---\n",
      "기사 제목: 경제8단체 \"상법 추가 개정, 경영권 위협 무방비 노출\"\n",
      "기사 링크: https://news.nate.com/view/20250725n00392?mid=n0300\n",
      "이미지 URL: https://thumbnews.nateimg.co.kr/news90///news.nateimg.co.kr/orgImg/kx/2025/07/25/2025072420060420627_1753355164_1753345068.jpg\n"
     ]
    },
    {
     "data": {
      "text/html": [
       "<img src=\"https://thumbnews.nateimg.co.kr/news90///news.nateimg.co.kr/orgImg/kx/2025/07/25/2025072420060420627_1753355164_1753345068.jpg\" width=\"150\"/>"
      ],
      "text/plain": [
       "<IPython.core.display.Image object>"
      ]
     },
     "metadata": {},
     "output_type": "display_data"
    },
    {
     "name": "stdout",
     "output_type": "stream",
     "text": [
      "\n",
      "--- 기사 #19 ---\n",
      "기사 제목: \"이 제품 관세 붙나요?\"…美 관세 유예기간 임박에 문의 급증\n",
      "기사 링크: https://news.nate.com/view/20250725n00387?mid=n0300\n",
      "이미지 URL: https://thumbnews.nateimg.co.kr/news90///news.nateimg.co.kr/orgImg/kx/2025/07/25/2025072421112520823_1753359085_1753346867.jpg\n"
     ]
    },
    {
     "data": {
      "text/html": [
       "<img src=\"https://thumbnews.nateimg.co.kr/news90///news.nateimg.co.kr/orgImg/kx/2025/07/25/2025072421112520823_1753359085_1753346867.jpg\" width=\"150\"/>"
      ],
      "text/plain": [
       "<IPython.core.display.Image object>"
      ]
     },
     "metadata": {},
     "output_type": "display_data"
    },
    {
     "name": "stdout",
     "output_type": "stream",
     "text": [
      "\n",
      "--- 기사 #20 ---\n",
      "기사 제목: 미 관세 직격탄 맞은 현대차…2분기 영업익 15.8% 줄었다\n",
      "기사 링크: https://news.nate.com/view/20250725n00386?mid=n0300\n",
      "이미지: 없음\n",
      "--- 경제 뉴스 스크래핑 완료 ---\n"
     ]
    }
   ],
   "source": [
    "#get_nate_news_data('section') 원하는기사 출력\n",
    "get_nate_news_data('경제')"
   ]
  },
  {
   "cell_type": "markdown",
   "id": "d233a41c",
   "metadata": {},
   "source": [
    "### 2-2. 하나의 네이버 웹툰과 1개의 회차에 대한 Image 다운로드 하기"
   ]
  },
  {
   "cell_type": "code",
   "execution_count": null,
   "id": "253f6fd2",
   "metadata": {},
   "outputs": [
    {
     "name": "stdout",
     "output_type": "stream",
     "text": [
      "'일렉시드' 웹툰의 341회차(https://comic.naver.com/webtoon/detail?titleId=717481&no=341&week=wed) 이미지 다운로드를 시작합니다...\n",
      "이미지 저장 경로: 'img\\일렉시드\\341'\n",
      "성공: 'img\\일렉시드\\341\\20250311184953_812848a288eb3e6ce6efe904abd0ef68_IMAG01_1.jpg'에 이미지 저장 완료 (87,143 bytes)\n",
      "성공: 'img\\일렉시드\\341\\20250311184953_812848a288eb3e6ce6efe904abd0ef68_IMAG01_2.jpg'에 이미지 저장 완료 (256,127 bytes)\n",
      "성공: 'img\\일렉시드\\341\\20250311184953_812848a288eb3e6ce6efe904abd0ef68_IMAG01_3.jpg'에 이미지 저장 완료 (184,536 bytes)\n",
      "성공: 'img\\일렉시드\\341\\20250311184953_812848a288eb3e6ce6efe904abd0ef68_IMAG01_4.jpg'에 이미지 저장 완료 (182,867 bytes)\n",
      "성공: 'img\\일렉시드\\341\\20250311184953_812848a288eb3e6ce6efe904abd0ef68_IMAG01_5.jpg'에 이미지 저장 완료 (112,615 bytes)\n",
      "성공: 'img\\일렉시드\\341\\20250311184953_812848a288eb3e6ce6efe904abd0ef68_IMAG01_6.jpg'에 이미지 저장 완료 (169,889 bytes)\n",
      "성공: 'img\\일렉시드\\341\\20250311184953_812848a288eb3e6ce6efe904abd0ef68_IMAG01_7.jpg'에 이미지 저장 완료 (157,876 bytes)\n",
      "성공: 'img\\일렉시드\\341\\20250311184953_812848a288eb3e6ce6efe904abd0ef68_IMAG01_8.jpg'에 이미지 저장 완료 (181,837 bytes)\n",
      "성공: 'img\\일렉시드\\341\\20250311184953_812848a288eb3e6ce6efe904abd0ef68_IMAG01_9.jpg'에 이미지 저장 완료 (203,632 bytes)\n",
      "성공: 'img\\일렉시드\\341\\20250311184953_812848a288eb3e6ce6efe904abd0ef68_IMAG01_10.jpg'에 이미지 저장 완료 (113,543 bytes)\n",
      "성공: 'img\\일렉시드\\341\\20250311184953_812848a288eb3e6ce6efe904abd0ef68_IMAG01_11.jpg'에 이미지 저장 완료 (166,818 bytes)\n",
      "성공: 'img\\일렉시드\\341\\20250311184953_812848a288eb3e6ce6efe904abd0ef68_IMAG01_12.jpg'에 이미지 저장 완료 (196,171 bytes)\n",
      "성공: 'img\\일렉시드\\341\\20250311184953_812848a288eb3e6ce6efe904abd0ef68_IMAG01_13.jpg'에 이미지 저장 완료 (158,408 bytes)\n",
      "성공: 'img\\일렉시드\\341\\20250311184953_812848a288eb3e6ce6efe904abd0ef68_IMAG01_14.jpg'에 이미지 저장 완료 (203,525 bytes)\n",
      "성공: 'img\\일렉시드\\341\\20250311184953_812848a288eb3e6ce6efe904abd0ef68_IMAG01_15.jpg'에 이미지 저장 완료 (81,271 bytes)\n",
      "성공: 'img\\일렉시드\\341\\20250311184953_812848a288eb3e6ce6efe904abd0ef68_IMAG01_16.jpg'에 이미지 저장 완료 (171,092 bytes)\n",
      "성공: 'img\\일렉시드\\341\\20250311184953_812848a288eb3e6ce6efe904abd0ef68_IMAG01_17.jpg'에 이미지 저장 완료 (65,626 bytes)\n",
      "성공: 'img\\일렉시드\\341\\20250311184953_812848a288eb3e6ce6efe904abd0ef68_IMAG01_18.jpg'에 이미지 저장 완료 (135,215 bytes)\n",
      "성공: 'img\\일렉시드\\341\\20250311184953_812848a288eb3e6ce6efe904abd0ef68_IMAG01_19.jpg'에 이미지 저장 완료 (96,367 bytes)\n",
      "성공: 'img\\일렉시드\\341\\20250311184953_812848a288eb3e6ce6efe904abd0ef68_IMAG01_20.jpg'에 이미지 저장 완료 (139,925 bytes)\n",
      "성공: 'img\\일렉시드\\341\\20250311184953_812848a288eb3e6ce6efe904abd0ef68_IMAG01_21.jpg'에 이미지 저장 완료 (191,828 bytes)\n",
      "성공: 'img\\일렉시드\\341\\20250311184953_812848a288eb3e6ce6efe904abd0ef68_IMAG01_22.jpg'에 이미지 저장 완료 (211,389 bytes)\n",
      "성공: 'img\\일렉시드\\341\\20250311184953_812848a288eb3e6ce6efe904abd0ef68_IMAG01_23.jpg'에 이미지 저장 완료 (174,099 bytes)\n",
      "성공: 'img\\일렉시드\\341\\20250311184953_812848a288eb3e6ce6efe904abd0ef68_IMAG01_24.jpg'에 이미지 저장 완료 (187,978 bytes)\n",
      "성공: 'img\\일렉시드\\341\\20250311184953_812848a288eb3e6ce6efe904abd0ef68_IMAG01_25.jpg'에 이미지 저장 완료 (185,536 bytes)\n",
      "성공: 'img\\일렉시드\\341\\20250311184953_812848a288eb3e6ce6efe904abd0ef68_IMAG01_26.jpg'에 이미지 저장 완료 (286,246 bytes)\n",
      "성공: 'img\\일렉시드\\341\\20250311184953_812848a288eb3e6ce6efe904abd0ef68_IMAG01_27.jpg'에 이미지 저장 완료 (238,473 bytes)\n",
      "성공: 'img\\일렉시드\\341\\20250311184953_812848a288eb3e6ce6efe904abd0ef68_IMAG01_28.jpg'에 이미지 저장 완료 (148,309 bytes)\n",
      "성공: 'img\\일렉시드\\341\\20250311184953_812848a288eb3e6ce6efe904abd0ef68_IMAG01_29.jpg'에 이미지 저장 완료 (245,722 bytes)\n",
      "성공: 'img\\일렉시드\\341\\20250311184953_812848a288eb3e6ce6efe904abd0ef68_IMAG01_30.jpg'에 이미지 저장 완료 (232,985 bytes)\n",
      "성공: 'img\\일렉시드\\341\\20250311184953_812848a288eb3e6ce6efe904abd0ef68_IMAG01_31.jpg'에 이미지 저장 완료 (178,547 bytes)\n",
      "성공: 'img\\일렉시드\\341\\20250311184953_812848a288eb3e6ce6efe904abd0ef68_IMAG01_32.jpg'에 이미지 저장 완료 (176,348 bytes)\n",
      "성공: 'img\\일렉시드\\341\\20250311184953_812848a288eb3e6ce6efe904abd0ef68_IMAG01_33.jpg'에 이미지 저장 완료 (196,741 bytes)\n",
      "성공: 'img\\일렉시드\\341\\20250311184953_812848a288eb3e6ce6efe904abd0ef68_IMAG01_34.jpg'에 이미지 저장 완료 (232,565 bytes)\n",
      "성공: 'img\\일렉시드\\341\\20250311184953_812848a288eb3e6ce6efe904abd0ef68_IMAG01_35.jpg'에 이미지 저장 완료 (214,587 bytes)\n",
      "성공: 'img\\일렉시드\\341\\20250311184953_812848a288eb3e6ce6efe904abd0ef68_IMAG01_36.jpg'에 이미지 저장 완료 (137,502 bytes)\n",
      "성공: 'img\\일렉시드\\341\\20250311184953_812848a288eb3e6ce6efe904abd0ef68_IMAG01_37.jpg'에 이미지 저장 완료 (153,089 bytes)\n",
      "성공: 'img\\일렉시드\\341\\20250311184953_812848a288eb3e6ce6efe904abd0ef68_IMAG01_38.jpg'에 이미지 저장 완료 (250,210 bytes)\n",
      "성공: 'img\\일렉시드\\341\\20250311184953_812848a288eb3e6ce6efe904abd0ef68_IMAG01_39.jpg'에 이미지 저장 완료 (216,059 bytes)\n",
      "성공: 'img\\일렉시드\\341\\20250311184953_812848a288eb3e6ce6efe904abd0ef68_IMAG01_40.jpg'에 이미지 저장 완료 (203,977 bytes)\n",
      "성공: 'img\\일렉시드\\341\\20250311184953_812848a288eb3e6ce6efe904abd0ef68_IMAG01_41.jpg'에 이미지 저장 완료 (170,488 bytes)\n",
      "성공: 'img\\일렉시드\\341\\20250311184953_812848a288eb3e6ce6efe904abd0ef68_IMAG01_42.jpg'에 이미지 저장 완료 (150,868 bytes)\n",
      "성공: 'img\\일렉시드\\341\\20250311184953_812848a288eb3e6ce6efe904abd0ef68_IMAG01_43.jpg'에 이미지 저장 완료 (183,488 bytes)\n",
      "성공: 'img\\일렉시드\\341\\20250311184953_812848a288eb3e6ce6efe904abd0ef68_IMAG01_44.jpg'에 이미지 저장 완료 (205,269 bytes)\n",
      "성공: 'img\\일렉시드\\341\\20250311184953_812848a288eb3e6ce6efe904abd0ef68_IMAG01_45.jpg'에 이미지 저장 완료 (172,439 bytes)\n",
      "성공: 'img\\일렉시드\\341\\20250311184953_812848a288eb3e6ce6efe904abd0ef68_IMAG01_46.jpg'에 이미지 저장 완료 (179,258 bytes)\n",
      "성공: 'img\\일렉시드\\341\\20250311184953_812848a288eb3e6ce6efe904abd0ef68_IMAG01_47.jpg'에 이미지 저장 완료 (205,046 bytes)\n",
      "성공: 'img\\일렉시드\\341\\20250311184953_812848a288eb3e6ce6efe904abd0ef68_IMAG01_48.jpg'에 이미지 저장 완료 (196,106 bytes)\n",
      "성공: 'img\\일렉시드\\341\\20250311184953_812848a288eb3e6ce6efe904abd0ef68_IMAG01_49.jpg'에 이미지 저장 완료 (175,273 bytes)\n",
      "성공: 'img\\일렉시드\\341\\20250311184953_812848a288eb3e6ce6efe904abd0ef68_IMAG01_50.jpg'에 이미지 저장 완료 (320,751 bytes)\n",
      "성공: 'img\\일렉시드\\341\\20250311184953_812848a288eb3e6ce6efe904abd0ef68_IMAG01_51.jpg'에 이미지 저장 완료 (240,744 bytes)\n",
      "성공: 'img\\일렉시드\\341\\20250311184953_812848a288eb3e6ce6efe904abd0ef68_IMAG01_52.jpg'에 이미지 저장 완료 (158,821 bytes)\n",
      "성공: 'img\\일렉시드\\341\\20250311184953_812848a288eb3e6ce6efe904abd0ef68_IMAG01_53.jpg'에 이미지 저장 완료 (190,448 bytes)\n",
      "성공: 'img\\일렉시드\\341\\20250311184953_812848a288eb3e6ce6efe904abd0ef68_IMAG01_54.jpg'에 이미지 저장 완료 (156,224 bytes)\n",
      "성공: 'img\\일렉시드\\341\\20250311184953_812848a288eb3e6ce6efe904abd0ef68_IMAG01_55.jpg'에 이미지 저장 완료 (191,149 bytes)\n",
      "성공: 'img\\일렉시드\\341\\20250311184953_812848a288eb3e6ce6efe904abd0ef68_IMAG01_56.jpg'에 이미지 저장 완료 (137,781 bytes)\n",
      "성공: 'img\\일렉시드\\341\\20250311184953_812848a288eb3e6ce6efe904abd0ef68_IMAG01_57.jpg'에 이미지 저장 완료 (174,969 bytes)\n",
      "성공: 'img\\일렉시드\\341\\20250311184953_812848a288eb3e6ce6efe904abd0ef68_IMAG01_58.jpg'에 이미지 저장 완료 (169,813 bytes)\n",
      "성공: 'img\\일렉시드\\341\\20250311184953_812848a288eb3e6ce6efe904abd0ef68_IMAG01_59.jpg'에 이미지 저장 완료 (183,086 bytes)\n",
      "성공: 'img\\일렉시드\\341\\20250311184953_812848a288eb3e6ce6efe904abd0ef68_IMAG01_60.jpg'에 이미지 저장 완료 (191,297 bytes)\n",
      "성공: 'img\\일렉시드\\341\\20250311184953_812848a288eb3e6ce6efe904abd0ef68_IMAG01_61.jpg'에 이미지 저장 완료 (201,884 bytes)\n",
      "성공: 'img\\일렉시드\\341\\20250311184953_812848a288eb3e6ce6efe904abd0ef68_IMAG01_62.jpg'에 이미지 저장 완료 (186,718 bytes)\n",
      "성공: 'img\\일렉시드\\341\\20250311184953_812848a288eb3e6ce6efe904abd0ef68_IMAG01_63.jpg'에 이미지 저장 완료 (115,304 bytes)\n",
      "성공: 'img\\일렉시드\\341\\20250311184953_812848a288eb3e6ce6efe904abd0ef68_IMAG01_64.jpg'에 이미지 저장 완료 (239,910 bytes)\n",
      "성공: 'img\\일렉시드\\341\\20250311184953_812848a288eb3e6ce6efe904abd0ef68_IMAG01_65.jpg'에 이미지 저장 완료 (160,774 bytes)\n",
      "성공: 'img\\일렉시드\\341\\20250311184953_812848a288eb3e6ce6efe904abd0ef68_IMAG01_66.jpg'에 이미지 저장 완료 (188,427 bytes)\n",
      "성공: 'img\\일렉시드\\341\\20250311184953_812848a288eb3e6ce6efe904abd0ef68_IMAG01_67.jpg'에 이미지 저장 완료 (196,378 bytes)\n",
      "성공: 'img\\일렉시드\\341\\20250311184953_812848a288eb3e6ce6efe904abd0ef68_IMAG01_68.jpg'에 이미지 저장 완료 (195,161 bytes)\n",
      "성공: 'img\\일렉시드\\341\\20250311184953_812848a288eb3e6ce6efe904abd0ef68_IMAG01_69.jpg'에 이미지 저장 완료 (207,700 bytes)\n",
      "성공: 'img\\일렉시드\\341\\20250311184953_812848a288eb3e6ce6efe904abd0ef68_IMAG01_70.jpg'에 이미지 저장 완료 (191,109 bytes)\n",
      "성공: 'img\\일렉시드\\341\\20250311184953_812848a288eb3e6ce6efe904abd0ef68_IMAG01_71.jpg'에 이미지 저장 완료 (135,448 bytes)\n",
      "성공: 'img\\일렉시드\\341\\20250311184953_812848a288eb3e6ce6efe904abd0ef68_IMAG01_72.jpg'에 이미지 저장 완료 (254,244 bytes)\n",
      "성공: 'img\\일렉시드\\341\\20250311184953_812848a288eb3e6ce6efe904abd0ef68_IMAG01_73.jpg'에 이미지 저장 완료 (190,447 bytes)\n",
      "성공: 'img\\일렉시드\\341\\20250311184953_812848a288eb3e6ce6efe904abd0ef68_IMAG01_74.jpg'에 이미지 저장 완료 (140,545 bytes)\n",
      "성공: 'img\\일렉시드\\341\\20250311184953_812848a288eb3e6ce6efe904abd0ef68_IMAG01_75.jpg'에 이미지 저장 완료 (90,130 bytes)\n",
      "성공: 'img\\일렉시드\\341\\20250311184953_812848a288eb3e6ce6efe904abd0ef68_IMAG01_76.jpg'에 이미지 저장 완료 (194,086 bytes)\n",
      "성공: 'img\\일렉시드\\341\\20250311184953_812848a288eb3e6ce6efe904abd0ef68_IMAG01_77.jpg'에 이미지 저장 완료 (189,616 bytes)\n",
      "성공: 'img\\일렉시드\\341\\20250311184953_812848a288eb3e6ce6efe904abd0ef68_IMAG01_78.jpg'에 이미지 저장 완료 (244,264 bytes)\n",
      "성공: 'img\\일렉시드\\341\\20250311184953_812848a288eb3e6ce6efe904abd0ef68_IMAG01_79.jpg'에 이미지 저장 완료 (226,750 bytes)\n",
      "성공: 'img\\일렉시드\\341\\20250311184953_812848a288eb3e6ce6efe904abd0ef68_IMAG01_80.jpg'에 이미지 저장 완료 (73,608 bytes)\n",
      "성공: 'img\\일렉시드\\341\\20250311184953_812848a288eb3e6ce6efe904abd0ef68_IMAG01_81.jpg'에 이미지 저장 완료 (175,437 bytes)\n",
      "성공: 'img\\일렉시드\\341\\20250311184953_812848a288eb3e6ce6efe904abd0ef68_IMAG01_82.jpg'에 이미지 저장 완료 (141,961 bytes)\n",
      "성공: 'img\\일렉시드\\341\\20250311184953_812848a288eb3e6ce6efe904abd0ef68_IMAG01_83.jpg'에 이미지 저장 완료 (145,494 bytes)\n",
      "성공: 'img\\일렉시드\\341\\20250311184953_812848a288eb3e6ce6efe904abd0ef68_IMAG01_84.jpg'에 이미지 저장 완료 (121,081 bytes)\n",
      "성공: 'img\\일렉시드\\341\\20250311184953_812848a288eb3e6ce6efe904abd0ef68_IMAG01_85.jpg'에 이미지 저장 완료 (148,191 bytes)\n",
      "성공: 'img\\일렉시드\\341\\20250311184953_812848a288eb3e6ce6efe904abd0ef68_IMAG01_86.jpg'에 이미지 저장 완료 (186,055 bytes)\n",
      "성공: 'img\\일렉시드\\341\\20250311184953_812848a288eb3e6ce6efe904abd0ef68_IMAG01_87.jpg'에 이미지 저장 완료 (170,532 bytes)\n",
      "성공: 'img\\일렉시드\\341\\20250311184953_812848a288eb3e6ce6efe904abd0ef68_IMAG01_88.jpg'에 이미지 저장 완료 (99,449 bytes)\n",
      "'일렉시드' 웹툰 341회차의 모든 이미지 다운로드가 완료되었습니다.\n"
     ]
    }
   ],
   "source": [
    "import requests\n",
    "import os\n",
    "from bs4 import BeautifulSoup\n",
    "\n",
    "def download_one_episode(title, no, url): \n",
    "   \n",
    "    print(f\"'{title}' 웹툰의 {no}회차({url}) 이미지 다운로드를 시작합니다...\")\n",
    "\n",
    "    # 이미지를 저장할 디렉토리 경로를 설정합니다.\n",
    "    # 'img/웹툰제목/회차번호' 형태로 생성됩니다.\n",
    "    image_directory = os.path.join('img', title, str(no))\n",
    "\n",
    "    # 이미지 저장 폴더가 없으면 새로 생성하고, 이미 존재하면 아무 작업도 하지 않습니다.\n",
    "    os.makedirs(image_directory, exist_ok=True)\n",
    "    print(f\"이미지 저장 경로: '{image_directory}'\")\n",
    "\n",
    "    \n",
    "    request_headers = {\n",
    "        'referer': url,\n",
    "        \"user-agent\": \"Mozilla/5.0 (Windows NT 10.0; Win64; x64) AppleWebKit/537.36 (KHTML, like Gecko) Chrome/136.0.0.0 Whale/4.32.315.22 Safari/537.36\"\n",
    "    \n",
    "                       }\n",
    "\n",
    "    try:\n",
    "        page_response = requests.get(url)\n",
    "        page_response.encoding = 'EUC-KR'\n",
    "\n",
    "        # HTTP 응답 코드가 200 (성공)이 아니면 오류 메시지를 출력하고 함수를 종료합니다.\n",
    "        if not page_response.ok:\n",
    "            print(f\"오류: 웹 페이지 접근 실패. 상태 코드: {page_response.status_code}\")\n",
    "            return # 함수 종료\n",
    "    except requests.exceptions.RequestException as e:\n",
    "        print(f\"오류: 웹 페이지 요청 중 네트워크 문제가 발생했습니다: {e}\")\n",
    "        return # 함수 종료\n",
    "\n",
    "    # HTML을 파싱하고 이미지 URL을 추출\n",
    "    soup = BeautifulSoup(page_response.text, 'html.parser')\n",
    "    \n",
    "    # 'img' 태그 중 'src' 속성에 'IMAG01'이 포함된 모든 이미지를 선택\n",
    "    image_urls = [img_tag['src'] for img_tag in soup.select(\"img[src*='IMAG01']\")]\n",
    "\n",
    "    if not image_urls:\n",
    "        print(f\"경고: '{title}' 웹툰 {no}회차에서 다운로드할 이미지를 찾을 수 없습니다. \"\n",
    "              \"페이지 구조가 변경되었거나, 이미지가 없거나, 접근 제한이 있을 수 있습니다.\")\n",
    "        return \n",
    "\n",
    "    #  추출된 각 이미지 URL을 통해 이미지를 다운로드하고 저장\n",
    "    for img_url in image_urls:\n",
    "        try:\n",
    "            image_response = requests.get(img_url, headers=request_headers)\n",
    "            \n",
    "            if image_response.ok:\n",
    "                image_data = image_response.content # 이미지 데이터를 바이너리 형태로 가져옴\n",
    "                \n",
    "                # 이미지 파일명을 URL에서 추출하고, 저장할 파일의 전체 경로를 생성\n",
    "                file_name = os.path.basename(img_url)\n",
    "                file_path = os.path.join(image_directory, file_name)\n",
    "                \n",
    "                # 파일을 바이너리 쓰기 모드('wb')로 열어 이미지 데이터를 저장\n",
    "                with open(file_path, 'wb') as file:\n",
    "                    file.write(image_data)\n",
    "                print(f\"성공: '{file_path}'에 이미지 저장 완료 ({len(image_data):,} bytes)\")\n",
    "            else:\n",
    "                print(f\"오류: 이미지 다운로드 실패. 상태 코드: {image_response.status_code} ({img_url})\")\n",
    "        except requests.exceptions.RequestException as e:\n",
    "            print(f\"오류: 이미지 ({img_url}) 다운로드 중 네트워크 문제가 발생했습니다: {e}\")\n",
    "        except IOError as e:\n",
    "            print(f\"오류: 이미지 파일 '{file_path}' 저장 중 문제가 발생했습니다: {e}\")\n",
    "\n",
    "    print(f\"'{title}' 웹툰 {no}회차의 모든 이미지 다운로드가 완료되었습니다.\")\n",
    "\n",
    "\n",
    "download_one_episode('일렉시드', 341, 'https://comic.naver.com/webtoon/detail?titleId=717481&no=341&week=wed')"
   ]
  }
 ],
 "metadata": {
  "kernelspec": {
   "display_name": "base",
   "language": "python",
   "name": "python3"
  },
  "language_info": {
   "codemirror_mode": {
    "name": "ipython",
    "version": 3
   },
   "file_extension": ".py",
   "mimetype": "text/x-python",
   "name": "python",
   "nbconvert_exporter": "python",
   "pygments_lexer": "ipython3",
   "version": "3.12.7"
  }
 },
 "nbformat": 4,
 "nbformat_minor": 5
}
